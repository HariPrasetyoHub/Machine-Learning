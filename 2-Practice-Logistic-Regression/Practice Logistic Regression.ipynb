{
 "cells": [
  {
   "attachments": {},
   "cell_type": "markdown",
   "metadata": {},
   "source": [
    "## 1. Logistic Regression\n"
   ]
  },
  {
   "attachments": {},
   "cell_type": "markdown",
   "metadata": {},
   "source": [
    "Analize data bankloan.csv\n",
    "\n",
    "1. Bulid a logistic regression Model\n",
    "    - Target: Default\n",
    "    - Fetures: Employ, Debtinc, Creddebt, Otherdebt\n",
    "1. Interpret The Result\n",
    "1. Validate the model using accuracy in 20% testing data"
   ]
  },
  {
   "cell_type": "code",
   "execution_count": 1,
   "metadata": {},
   "outputs": [],
   "source": [
    "import pandas as pd\n",
    "import numpy as np\n",
    "import statsmodels.api as sm"
   ]
  },
  {
   "cell_type": "code",
   "execution_count": 2,
   "metadata": {},
   "outputs": [
    {
     "data": {
      "text/html": [
       "<div>\n",
       "<style scoped>\n",
       "    .dataframe tbody tr th:only-of-type {\n",
       "        vertical-align: middle;\n",
       "    }\n",
       "\n",
       "    .dataframe tbody tr th {\n",
       "        vertical-align: top;\n",
       "    }\n",
       "\n",
       "    .dataframe thead th {\n",
       "        text-align: right;\n",
       "    }\n",
       "</style>\n",
       "<table border=\"1\" class=\"dataframe\">\n",
       "  <thead>\n",
       "    <tr style=\"text-align: right;\">\n",
       "      <th></th>\n",
       "      <th>age</th>\n",
       "      <th>ed</th>\n",
       "      <th>employ</th>\n",
       "      <th>address</th>\n",
       "      <th>income</th>\n",
       "      <th>debtinc</th>\n",
       "      <th>creddebt</th>\n",
       "      <th>othdebt</th>\n",
       "      <th>default</th>\n",
       "    </tr>\n",
       "  </thead>\n",
       "  <tbody>\n",
       "    <tr>\n",
       "      <th>0</th>\n",
       "      <td>41</td>\n",
       "      <td>3</td>\n",
       "      <td>17</td>\n",
       "      <td>12</td>\n",
       "      <td>176</td>\n",
       "      <td>9.3</td>\n",
       "      <td>11.359392</td>\n",
       "      <td>5.008608</td>\n",
       "      <td>1</td>\n",
       "    </tr>\n",
       "    <tr>\n",
       "      <th>1</th>\n",
       "      <td>27</td>\n",
       "      <td>1</td>\n",
       "      <td>10</td>\n",
       "      <td>6</td>\n",
       "      <td>31</td>\n",
       "      <td>17.3</td>\n",
       "      <td>1.362202</td>\n",
       "      <td>4.000798</td>\n",
       "      <td>0</td>\n",
       "    </tr>\n",
       "    <tr>\n",
       "      <th>2</th>\n",
       "      <td>40</td>\n",
       "      <td>1</td>\n",
       "      <td>15</td>\n",
       "      <td>14</td>\n",
       "      <td>55</td>\n",
       "      <td>5.5</td>\n",
       "      <td>0.856075</td>\n",
       "      <td>2.168925</td>\n",
       "      <td>0</td>\n",
       "    </tr>\n",
       "    <tr>\n",
       "      <th>3</th>\n",
       "      <td>41</td>\n",
       "      <td>1</td>\n",
       "      <td>15</td>\n",
       "      <td>14</td>\n",
       "      <td>120</td>\n",
       "      <td>2.9</td>\n",
       "      <td>2.658720</td>\n",
       "      <td>0.821280</td>\n",
       "      <td>0</td>\n",
       "    </tr>\n",
       "    <tr>\n",
       "      <th>4</th>\n",
       "      <td>24</td>\n",
       "      <td>2</td>\n",
       "      <td>2</td>\n",
       "      <td>0</td>\n",
       "      <td>28</td>\n",
       "      <td>17.3</td>\n",
       "      <td>1.787436</td>\n",
       "      <td>3.056564</td>\n",
       "      <td>1</td>\n",
       "    </tr>\n",
       "    <tr>\n",
       "      <th>...</th>\n",
       "      <td>...</td>\n",
       "      <td>...</td>\n",
       "      <td>...</td>\n",
       "      <td>...</td>\n",
       "      <td>...</td>\n",
       "      <td>...</td>\n",
       "      <td>...</td>\n",
       "      <td>...</td>\n",
       "      <td>...</td>\n",
       "    </tr>\n",
       "    <tr>\n",
       "      <th>695</th>\n",
       "      <td>36</td>\n",
       "      <td>2</td>\n",
       "      <td>6</td>\n",
       "      <td>15</td>\n",
       "      <td>27</td>\n",
       "      <td>4.6</td>\n",
       "      <td>0.262062</td>\n",
       "      <td>0.979938</td>\n",
       "      <td>1</td>\n",
       "    </tr>\n",
       "    <tr>\n",
       "      <th>696</th>\n",
       "      <td>29</td>\n",
       "      <td>2</td>\n",
       "      <td>6</td>\n",
       "      <td>4</td>\n",
       "      <td>21</td>\n",
       "      <td>11.5</td>\n",
       "      <td>0.369495</td>\n",
       "      <td>2.045505</td>\n",
       "      <td>0</td>\n",
       "    </tr>\n",
       "    <tr>\n",
       "      <th>697</th>\n",
       "      <td>33</td>\n",
       "      <td>1</td>\n",
       "      <td>15</td>\n",
       "      <td>3</td>\n",
       "      <td>32</td>\n",
       "      <td>7.6</td>\n",
       "      <td>0.491264</td>\n",
       "      <td>1.940736</td>\n",
       "      <td>0</td>\n",
       "    </tr>\n",
       "    <tr>\n",
       "      <th>698</th>\n",
       "      <td>45</td>\n",
       "      <td>1</td>\n",
       "      <td>19</td>\n",
       "      <td>22</td>\n",
       "      <td>77</td>\n",
       "      <td>8.4</td>\n",
       "      <td>2.302608</td>\n",
       "      <td>4.165392</td>\n",
       "      <td>0</td>\n",
       "    </tr>\n",
       "    <tr>\n",
       "      <th>699</th>\n",
       "      <td>37</td>\n",
       "      <td>1</td>\n",
       "      <td>12</td>\n",
       "      <td>14</td>\n",
       "      <td>44</td>\n",
       "      <td>14.7</td>\n",
       "      <td>2.994684</td>\n",
       "      <td>3.473316</td>\n",
       "      <td>0</td>\n",
       "    </tr>\n",
       "  </tbody>\n",
       "</table>\n",
       "<p>700 rows × 9 columns</p>\n",
       "</div>"
      ],
      "text/plain": [
       "     age  ed  employ  address  income  debtinc   creddebt   othdebt  default\n",
       "0     41   3      17       12     176      9.3  11.359392  5.008608        1\n",
       "1     27   1      10        6      31     17.3   1.362202  4.000798        0\n",
       "2     40   1      15       14      55      5.5   0.856075  2.168925        0\n",
       "3     41   1      15       14     120      2.9   2.658720  0.821280        0\n",
       "4     24   2       2        0      28     17.3   1.787436  3.056564        1\n",
       "..   ...  ..     ...      ...     ...      ...        ...       ...      ...\n",
       "695   36   2       6       15      27      4.6   0.262062  0.979938        1\n",
       "696   29   2       6        4      21     11.5   0.369495  2.045505        0\n",
       "697   33   1      15        3      32      7.6   0.491264  1.940736        0\n",
       "698   45   1      19       22      77      8.4   2.302608  4.165392        0\n",
       "699   37   1      12       14      44     14.7   2.994684  3.473316        0\n",
       "\n",
       "[700 rows x 9 columns]"
      ]
     },
     "execution_count": 2,
     "metadata": {},
     "output_type": "execute_result"
    }
   ],
   "source": [
    "bankloan = pd.read_csv('bankloan.csv')\n",
    "bankloan"
   ]
  },
  {
   "attachments": {},
   "cell_type": "markdown",
   "metadata": {},
   "source": [
    "Age     : Usia \\\n",
    "Ed      : Jenjang pendidikan \\\n",
    "Employ  : Lama kerja \\\n",
    "Address : Lama tinggal di alamat sekarang \\\n",
    "Income  : Pemasukan per bulan \\\n",
    "Debtinc : Persentase hutang dalam income \\\n",
    "Creddebt: Nominal hutang saat ini (satuan 1000 dollar) \\\n",
    "Othdebt : Nominal hutang dari sumber lain\n",
    "\n"
   ]
  },
  {
   "cell_type": "code",
   "execution_count": 3,
   "metadata": {},
   "outputs": [],
   "source": [
    "fitur = ['employ','debtinc','creddebt','othdebt']\n",
    "target = 'default'\n",
    "\n",
    "x = bankloan[fitur]\n",
    "y = bankloan[target]\n"
   ]
  },
  {
   "cell_type": "code",
   "execution_count": 4,
   "metadata": {},
   "outputs": [
    {
     "data": {
      "text/html": [
       "<div>\n",
       "<style scoped>\n",
       "    .dataframe tbody tr th:only-of-type {\n",
       "        vertical-align: middle;\n",
       "    }\n",
       "\n",
       "    .dataframe tbody tr th {\n",
       "        vertical-align: top;\n",
       "    }\n",
       "\n",
       "    .dataframe thead th {\n",
       "        text-align: right;\n",
       "    }\n",
       "</style>\n",
       "<table border=\"1\" class=\"dataframe\">\n",
       "  <thead>\n",
       "    <tr style=\"text-align: right;\">\n",
       "      <th></th>\n",
       "      <th>employ</th>\n",
       "      <th>debtinc</th>\n",
       "      <th>creddebt</th>\n",
       "      <th>othdebt</th>\n",
       "    </tr>\n",
       "  </thead>\n",
       "  <tbody>\n",
       "    <tr>\n",
       "      <th>count</th>\n",
       "      <td>700.000000</td>\n",
       "      <td>700.000000</td>\n",
       "      <td>700.000000</td>\n",
       "      <td>700.000000</td>\n",
       "    </tr>\n",
       "    <tr>\n",
       "      <th>mean</th>\n",
       "      <td>8.388571</td>\n",
       "      <td>10.260571</td>\n",
       "      <td>1.553553</td>\n",
       "      <td>3.058209</td>\n",
       "    </tr>\n",
       "    <tr>\n",
       "      <th>std</th>\n",
       "      <td>6.658039</td>\n",
       "      <td>6.827234</td>\n",
       "      <td>2.117197</td>\n",
       "      <td>3.287555</td>\n",
       "    </tr>\n",
       "    <tr>\n",
       "      <th>min</th>\n",
       "      <td>0.000000</td>\n",
       "      <td>0.400000</td>\n",
       "      <td>0.011696</td>\n",
       "      <td>0.045584</td>\n",
       "    </tr>\n",
       "    <tr>\n",
       "      <th>25%</th>\n",
       "      <td>3.000000</td>\n",
       "      <td>5.000000</td>\n",
       "      <td>0.369059</td>\n",
       "      <td>1.044178</td>\n",
       "    </tr>\n",
       "    <tr>\n",
       "      <th>50%</th>\n",
       "      <td>7.000000</td>\n",
       "      <td>8.600000</td>\n",
       "      <td>0.854869</td>\n",
       "      <td>1.987567</td>\n",
       "    </tr>\n",
       "    <tr>\n",
       "      <th>75%</th>\n",
       "      <td>12.000000</td>\n",
       "      <td>14.125000</td>\n",
       "      <td>1.901955</td>\n",
       "      <td>3.923065</td>\n",
       "    </tr>\n",
       "    <tr>\n",
       "      <th>max</th>\n",
       "      <td>31.000000</td>\n",
       "      <td>41.300000</td>\n",
       "      <td>20.561310</td>\n",
       "      <td>27.033600</td>\n",
       "    </tr>\n",
       "  </tbody>\n",
       "</table>\n",
       "</div>"
      ],
      "text/plain": [
       "           employ     debtinc    creddebt     othdebt\n",
       "count  700.000000  700.000000  700.000000  700.000000\n",
       "mean     8.388571   10.260571    1.553553    3.058209\n",
       "std      6.658039    6.827234    2.117197    3.287555\n",
       "min      0.000000    0.400000    0.011696    0.045584\n",
       "25%      3.000000    5.000000    0.369059    1.044178\n",
       "50%      7.000000    8.600000    0.854869    1.987567\n",
       "75%     12.000000   14.125000    1.901955    3.923065\n",
       "max     31.000000   41.300000   20.561310   27.033600"
      ]
     },
     "execution_count": 4,
     "metadata": {},
     "output_type": "execute_result"
    }
   ],
   "source": [
    "x.describe()"
   ]
  },
  {
   "attachments": {},
   "cell_type": "markdown",
   "metadata": {},
   "source": [
    "#### Pemodelan"
   ]
  },
  {
   "cell_type": "code",
   "execution_count": 5,
   "metadata": {},
   "outputs": [
    {
     "name": "stdout",
     "output_type": "stream",
     "text": [
      "Optimization terminated successfully.\n",
      "         Current function value: 0.411165\n",
      "         Iterations 7\n",
      "                           Logit Regression Results                           \n",
      "==============================================================================\n",
      "Dep. Variable:                default   No. Observations:                  700\n",
      "Model:                          Logit   Df Residuals:                      695\n",
      "Method:                           MLE   Df Model:                            4\n",
      "Date:                Thu, 02 Feb 2023   Pseudo R-squ.:                  0.2844\n",
      "Time:                        13:21:40   Log-Likelihood:                -287.82\n",
      "converged:                       True   LL-Null:                       -402.18\n",
      "Covariance Type:            nonrobust   LLR p-value:                 2.473e-48\n",
      "==============================================================================\n",
      "                 coef    std err          z      P>|z|      [0.025      0.975]\n",
      "------------------------------------------------------------------------------\n",
      "const         -1.2302      0.236     -5.210      0.000      -1.693      -0.767\n",
      "employ        -0.2436      0.029     -8.456      0.000      -0.300      -0.187\n",
      "debtinc        0.0885      0.021      4.200      0.000       0.047       0.130\n",
      "creddebt       0.5041      0.083      6.094      0.000       0.342       0.666\n",
      "othdebt       -0.0040      0.053     -0.076      0.940      -0.107       0.099\n",
      "==============================================================================\n"
     ]
    }
   ],
   "source": [
    "model = sm.Logit(y,sm.add_constant(x)) #Pendefinisian model\n",
    "\n",
    "result = model.fit()\n",
    "\n",
    "print(result.summary())"
   ]
  },
  {
   "attachments": {},
   "cell_type": "markdown",
   "metadata": {},
   "source": [
    "***\n",
    "Output yang perlu dibaca:\n",
    "1. LLR P-Value : 0.00...2473\n",
    "2. P-value:\n",
    "    1. const    : 0.000\n",
    "    2. employ   : 0.000\n",
    "    3. debtinc  : 0.000\n",
    "    4. creddebt : 0.000\n",
    "    5. othdevt  : 0.0940 (karna ini 0,094, maka kita tidak perlu interpretasikan coefnya)\n",
    "    \n",
    "3. coef:\n",
    "    1. employ   : -0.2436\n",
    "    2. debtinc  :  0.0885\n",
    "    3. creddebt :  0.5041 \n",
    "\n",
    "***\n"
   ]
  },
  {
   "attachments": {},
   "cell_type": "markdown",
   "metadata": {},
   "source": [
    "Yang dimodelkan adalah resiko default (nilai default 1), resiko seseorang akanmenjadi buruk pembayarannya.\n",
    "\n",
    "Interpretasi:\n",
    "1. LLR P-Value : 0.00...2473 < 0.05 (tolak H0) \\\n",
    "    Artinya, Minimal salah satu variabel berpengaruh secara signifikan terhadap resiko default\n",
    "\n",
    "2. P-value:\n",
    "    1. **const**    : 0.000 < 0.05 (tolak H0) \\\n",
    "        Artinya model kita memerlukan Intersep.\n",
    "        \n",
    "    2. **employ**   : 0.000 < 0.05 (tolak H0) \\\n",
    "        Artinya, Lama kerja berpengaruh secara negatif terhadap resiko default. Semakin lama kerja, semakin rendah defaultnya (employ 0-31)\n",
    "    3. **debtinc**  : 0.000 < 0.05 (tolak H0) \\\n",
    "        Artinya, Persentase hutang berpengaruh secara positif terhadap resio default. Semakin besar persentasi hutang, semakin tinggi resiko default sesorang, berlaku untuk debtinc 0.4 - 41.3.\n",
    "    4. **creddebt** : 0.000 < 0.05 (tolak H0) \\\n",
    "        Artinya, Nominal hutang berpengaruh secara positif terhadap resio default. Semakin besar nominal hutang, semakin tinggi resiko default sesorang, berlaku untuk creddebt 0.011 - 20.56.\n",
    "    5. **othdevt**  : 0.0940 > 0.05 (terima H0) \\\n",
    "        Artinya tidak cukup bukti bahwa nominal hutang dari sumber lain berpengaruh terhadap resiko default.\n",
    " <br>\n",
    "\n",
    "3. coef:\n",
    "    1. employ   : -0.2436\n",
    "    2. debtinc  :  0.0885\n",
    "    3. creddebt :  0.5041 \n"
   ]
  },
  {
   "cell_type": "code",
   "execution_count": 6,
   "metadata": {},
   "outputs": [
    {
     "name": "stdout",
     "output_type": "stream",
     "text": [
      "3.380420128015566\n"
     ]
    }
   ],
   "source": [
    "# Untuk Coef dari logistic regression, kita tidak bisa langsung interpretasikan nilai coefnya. \n",
    "# Nilai ini harus kita rubah dulu ke Odd Ratio (OR)\n",
    "\n",
    "#coef -> OR exp(beta(c-a))\n",
    "\n",
    "# Pilih angka bebas di dalam rangenya\n",
    "c = 20\n",
    "a = 15\n",
    "\n",
    "OR_employ = np.exp(0.2436*(c-a))\n",
    "print(OR_employ)"
   ]
  },
  {
   "cell_type": "code",
   "execution_count": 7,
   "metadata": {},
   "outputs": [
    {
     "name": "stdout",
     "output_type": "stream",
     "text": [
      "1.5565938428137092\n"
     ]
    }
   ],
   "source": [
    "c = 20\n",
    "a = 15\n",
    "\n",
    "OR_debtinc = np.exp(0.0885*(c-a))\n",
    "print(OR_debtinc)"
   ]
  },
  {
   "cell_type": "code",
   "execution_count": 8,
   "metadata": {},
   "outputs": [
    {
     "name": "stdout",
     "output_type": "stream",
     "text": [
      "12.434812515742879\n"
     ]
    }
   ],
   "source": [
    "c = 20\n",
    "a = 15\n",
    "\n",
    "OR_creddebt = np.exp(0.5041*(c-a))\n",
    "print(OR_creddebt)"
   ]
  },
  {
   "attachments": {},
   "cell_type": "markdown",
   "metadata": {},
   "source": [
    "Ketika lama kerja meningkat sebesar 5 tahun (*dari selisih c - a*), kecenderungan seseorang akan menjadi default menurun sebesar 3.38 kali lipat."
   ]
  },
  {
   "attachments": {},
   "cell_type": "markdown",
   "metadata": {},
   "source": [
    "3. coef:\n",
    "    1. employ   : -0.2436 \\\n",
    "        Ketika lama kerja meningkat sebesar 5 tahun (*dari selisih c - a*), kecenderungan seseorang akan menjadi default menurun sebesar 3.38 kali lipat. (dengan catatan nilai variabel lain tidak berubah)\n",
    "        \n",
    "    2. debtinc  :  0.0885 \\\n",
    "        Ketika persentase hutang meningkat sebesar 5%, kecenderungan seseorang akan menjadi default meningkat sebesar 1.529 kali lipat.(dengan catatan nilai variabel lain tidak berubah)\n",
    "\n",
    "    3. creddebt :  0.5041 \\\n",
    "        Ketika nominal hutang meningkat sebesar 5000 dollar, kecenderungan seseorang akan menjadi default meningkat sebesar 12.43 kali lipat.(dengan catatan nilai variabel lain tidak berubah)"
   ]
  },
  {
   "attachments": {},
   "cell_type": "markdown",
   "metadata": {},
   "source": [
    "Ada 1 lagi yang perlu di cek dari logistic regressi yaitu Multikollinieritasnya.\n",
    "\n",
    "Harapannya tidak ada multikol, agar interpretasi di atas bisa berlaku."
   ]
  },
  {
   "cell_type": "code",
   "execution_count": 9,
   "metadata": {},
   "outputs": [
    {
     "data": {
      "text/html": [
       "<div>\n",
       "<style scoped>\n",
       "    .dataframe tbody tr th:only-of-type {\n",
       "        vertical-align: middle;\n",
       "    }\n",
       "\n",
       "    .dataframe tbody tr th {\n",
       "        vertical-align: top;\n",
       "    }\n",
       "\n",
       "    .dataframe thead th {\n",
       "        text-align: right;\n",
       "    }\n",
       "</style>\n",
       "<table border=\"1\" class=\"dataframe\">\n",
       "  <thead>\n",
       "    <tr style=\"text-align: right;\">\n",
       "      <th></th>\n",
       "      <th>variabel</th>\n",
       "      <th>vif</th>\n",
       "    </tr>\n",
       "  </thead>\n",
       "  <tbody>\n",
       "    <tr>\n",
       "      <th>0</th>\n",
       "      <td>employ</td>\n",
       "      <td>2.222753</td>\n",
       "    </tr>\n",
       "    <tr>\n",
       "      <th>1</th>\n",
       "      <td>debtinc</td>\n",
       "      <td>3.045977</td>\n",
       "    </tr>\n",
       "    <tr>\n",
       "      <th>2</th>\n",
       "      <td>creddebt</td>\n",
       "      <td>2.816577</td>\n",
       "    </tr>\n",
       "    <tr>\n",
       "      <th>3</th>\n",
       "      <td>othdebt</td>\n",
       "      <td>4.116876</td>\n",
       "    </tr>\n",
       "  </tbody>\n",
       "</table>\n",
       "</div>"
      ],
      "text/plain": [
       "   variabel       vif\n",
       "0    employ  2.222753\n",
       "1   debtinc  3.045977\n",
       "2  creddebt  2.816577\n",
       "3   othdebt  4.116876"
      ]
     },
     "execution_count": 9,
     "metadata": {},
     "output_type": "execute_result"
    }
   ],
   "source": [
    "#Multicol\n",
    "from statsmodels.stats.outliers_influence import variance_inflation_factor\n",
    "\n",
    "def calc_vif(x):\n",
    "    vif = pd.DataFrame()\n",
    "    vif['variabel'] = x.columns\n",
    "    vif['vif'] = [variance_inflation_factor(x.values, i) for i in range(x.shape[1])]\n",
    "    return vif\n",
    "\n",
    "calc_vif(x)"
   ]
  },
  {
   "attachments": {},
   "cell_type": "markdown",
   "metadata": {},
   "source": [
    "tidak ada masalah multicollinieritas. jadi iterpretasi bisa digunakan.\n"
   ]
  },
  {
   "attachments": {},
   "cell_type": "markdown",
   "metadata": {},
   "source": [
    "VALIDASI MODEL"
   ]
  },
  {
   "cell_type": "code",
   "execution_count": 10,
   "metadata": {},
   "outputs": [],
   "source": [
    "## Validasi model pada 20% data testing\n",
    "\n",
    "from sklearn.model_selection import train_test_split\n",
    "from sklearn.metrics import accuracy_score\n",
    "\n"
   ]
  },
  {
   "cell_type": "code",
   "execution_count": 11,
   "metadata": {},
   "outputs": [],
   "source": [
    "# MEMBAGI DATANYA\n",
    "x_train, x_test, y_train, y_test = train_test_split(\n",
    "    x,\n",
    "    y,\n",
    "    test_size = 0.2, # 20% data testing\n",
    "    random_state = 2020\n",
    ")\n",
    "\n"
   ]
  },
  {
   "attachments": {},
   "cell_type": "markdown",
   "metadata": {},
   "source": [
    "Training model pada data training saja"
   ]
  },
  {
   "cell_type": "code",
   "execution_count": 12,
   "metadata": {},
   "outputs": [
    {
     "name": "stdout",
     "output_type": "stream",
     "text": [
      "Optimization terminated successfully.\n",
      "         Current function value: 0.408607\n",
      "         Iterations 7\n"
     ]
    }
   ],
   "source": [
    "sm_logit_train = sm.Logit(y_train,sm.add_constant(x_train))\n",
    "result_train = sm_logit_train.fit()"
   ]
  },
  {
   "cell_type": "code",
   "execution_count": 13,
   "metadata": {},
   "outputs": [
    {
     "name": "stdout",
     "output_type": "stream",
     "text": [
      "Akurasinya adalah sebesar 82.14285714285714 %\n"
     ]
    }
   ],
   "source": [
    "y_prob = result_train.predict(sm.add_constant(x_test)) #resiko/peluang defaultnya belum bad /goodnya\n",
    "\n",
    "y_class = np.where(y_prob > 0.5, 1, 0) #treshold 0,5, kelas default atau non default (Maksudnya, yang peluangnya besar atau lebih dari 0,5 akan menjadi 1, sisanya 0)\n",
    "\n",
    "print('Akurasinya adalah sebesar', accuracy_score(y_test,y_class)*100, '%')"
   ]
  },
  {
   "attachments": {},
   "cell_type": "markdown",
   "metadata": {},
   "source": [
    "Artinya, jika ada 100 nasabah, sekitar 82 nasabah akan terprediksi (default / non-defaultnya) dengan benar."
   ]
  }
 ],
 "metadata": {
  "kernelspec": {
   "display_name": "Py310",
   "language": "python",
   "name": "python3"
  },
  "language_info": {
   "codemirror_mode": {
    "name": "ipython",
    "version": 3
   },
   "file_extension": ".py",
   "mimetype": "text/x-python",
   "name": "python",
   "nbconvert_exporter": "python",
   "pygments_lexer": "ipython3",
   "version": "3.10.8"
  },
  "orig_nbformat": 4,
  "vscode": {
   "interpreter": {
    "hash": "5a831e44cb41733273842c937708bd6362b4efac515ef0cdcf76ec273ab11e26"
   }
  }
 },
 "nbformat": 4,
 "nbformat_minor": 2
}
